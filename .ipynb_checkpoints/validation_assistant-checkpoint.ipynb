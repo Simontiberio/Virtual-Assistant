{
 "cells": [
  {
   "cell_type": "markdown",
   "id": "d2f275fa-fd0e-4d3a-98dc-1518e8964a19",
   "metadata": {},
   "source": [
    "**ASISTENTE VIRTUAL EN EL AMBITO ACADEMICO**\n",
    "\n",
    "Introducción al desarrollo \n",
    "\n",
    "\n",
    "En esta notebook, desarrollaremos un asistente virtual a desempeñarse en el ámbito educativo utilizando tres herramientas clave: LLaMA, un modelo de lenguaje de gran tamaño (LLM) capaz de generar respuestas naturales y coherentes; el framework RAG (Retrieval-Augmented Generation), que combina generación y recuperación de información para mejorar la precisión de las respuestas; y Chroma, una base de datos vectorial que permitirá almacenar y buscar eficientemente los documentos relevantes. Estas herramientas juntas nos permitirán crear un asistente capaz de responder preguntas educativas con información contextualizada y precisa."
   ]
  },
  {
   "cell_type": "code",
   "execution_count": 6,
   "id": "872b2240-c1f5-4926-8af3-f35b8a1a20df",
   "metadata": {},
   "outputs": [],
   "source": [
    "''' Se importa la libreria Langchain_community y se instancia la clase o modulo OllaMa, el modelo de Large Language Models. Langchain es un\n",
    "framework que permite interactuar bases y flujos de datos, con modelos de LLMs'''\n",
    "\n",
    "from langchain_community.llms import Ollama\n",
    "\n",
    "llm = Ollama(model=\"llama3\")\n",
    "\n"
   ]
  },
  {
   "cell_type": "code",
   "execution_count": 7,
   "id": "33a7905a-a293-4dbd-b711-27f48e595362",
   "metadata": {},
   "outputs": [
    {
     "data": {
      "text/plain": [
       "Document(metadata={'source': 'documents/Data_Governance_2024.docx', 'file_path': 'documents/Data_Governance_2024.docx', 'page': 0, 'total_pages': 6, 'format': 'Office documen', 'title': '', 'author': '', 'subject': '', 'keywords': '', 'creator': '', 'producer': '', 'creationDate': '', 'modDate': '', 'trapped': '', 'encryption': ''}, page_content='PROFESORES RESPONSABLES de la ASIGNATURA GOBIERNO DEL\\nDATO: Kevin Canova - Gustavo Favaro - Nicolas Martins\\nEn los últimos años, en especial desde el advenimiento de las\\ntecnologías cloud, las organizaciones han implementado de forma\\ncreciente iniciativas basadas en datos. No obstante, los problemas\\nde gobernanza de tales procesos, tradicionalmente han sido\\nrelegados a un segundo plano dentro de las prioridades\\norganizacionales. Sólo con la complejización técnica reciente este\\nproblema ha ganado notoriedad y la academia, las organizaciones y\\nempresas proveedoras de servicios han comenzado a tratarlo\\nactivamente. Bajo esta nueva conceptualización, el área de Data\\nGovernance se ha consolidado como la disciplina y práctica\\nencargada de enforzar procesos, estándares y responsabilidades en\\nlo relativo a todas las etapas de ingesta, tratamiento,\\nalmacenamiento y consumo de datos en el área de analytics dentro\\nde una organización. Según este enfoque, la práctica de Data\\nGovernance es la encargada de alinear los procesos de analytics a la\\niniciativa estratégica de la empresa, determinando quién puede\\nhacer qué, y cómo, con los datos de la organización. Esta asignatura\\nbusca introducir a los alumnos a la problemática de Data\\nGovernance, repasando los principales aspectos vinculados al\\nentorno tecnológico, problemas organizacionales, definición de\\nequipos y responsabilidades y estrategias para la definición de\\nprocesos de datos.\\n1. OBJETIVOS DE LA ASIGNATURA\\nQue el alumno:\\nConozca la definición y las áreas de incumbencia de la práctica de\\ndata governance.\\nPueda encuadrar la gobernanza de los procesos de datos en el\\nmarco general de la Enterprise Architecture.\\nSe familiarice con los frameworks de gobernanza en el área de IT y\\nde datos.\\nComprenda cómo la transformación técnica lleva al surgimiento de\\n')"
      ]
     },
     "execution_count": 7,
     "metadata": {},
     "output_type": "execute_result"
    }
   ],
   "source": [
    "''' La libreria Langchain posee un modelo que se llama \"documents_loaders\" que basicamente permite descargar y obtener un archivo\n",
    "desde un path declarado. El modulo documents_loaders, posee distintas clases para obtener y leer archivos (CSV,TXT,Word) y PyMuPDFLoader es una\n",
    "de ellas. Se descarga el archivo Data Governance 2024 desde el directorio documents, y se aloja o persiste en la variable data_pdf'''\n",
    "\n",
    "from langchain_community.document_loaders import PyMuPDFLoader\n",
    "\n",
    "loader = PyMuPDFLoader(\"documents/Data_Governance_2024.docx\")\n",
    "data = loader.load()\n",
    "data[0]\n"
   ]
  },
  {
   "cell_type": "code",
   "execution_count": 8,
   "id": "cfed9419-970b-40ff-b515-747c7e0755b0",
   "metadata": {},
   "outputs": [],
   "source": [
    "'''Utilizamos la clase RecursiveCharacterTextSplitter de la librería LangChain para dividir el contenido del documento en fragmentos más pequeños y manejables.\n",
    "Definimos un tamaño de fragmento de 2000 caracteres (chunk_size=2000) con un solapamiento de 500 caracteres entre ellos (chunk_overlap=500). \n",
    "Este solapamiento asegura que se mantenga parte del contexto entre los fragmentos consecutivos, lo que es útil en tareas de procesamiento de lenguaje natural (NLP). \n",
    "Finalmente, el contenido del documento cargado se divide y se almacena en la variable \"docs\", que contiene los fragmentos generados.'''\n",
    "\n",
    "from langchain.text_splitter import RecursiveCharacterTextSplitter\n",
    "\n",
    "text_splitter = RecursiveCharacterTextSplitter(chunk_size=2000, chunk_overlap=500)\n",
    "docs = text_splitter.split_documents(data)"
   ]
  },
  {
   "cell_type": "code",
   "execution_count": 12,
   "id": "08250fe5-5057-4e7f-b840-35d881821955",
   "metadata": {},
   "outputs": [],
   "source": [
    "'''Se utiliza la clase HuggingFaceEmbeddings` de la librería LangChain para crear un modelo de incrustaciones (embeddings). \n",
    "El modelo que se utiliza es `sentence-transformers/all-MiniLM-L6-v2`, un modelo preentrenado de Hugging Face que genera representaciones vectoriales de oraciones o fragmentos de texto. \n",
    "Estas representaciones vectoriales (embeddings) son útiles para realizar búsquedas semánticas, clasificaciones o tareas que involucren similitudes entre textos. \n",
    "La variable `embed_model` almacena el modelo de embeddings que será usado posteriormente para convertir el texto en vectores numéricos.'''\n",
    "\n",
    "from langchain_huggingface import HuggingFaceEmbeddings\n",
    "\n",
    "embed_model = HuggingFaceEmbeddings(model_name=\"sentence-transformers/all-MiniLM-L6-v2\")\n"
   ]
  },
  {
   "cell_type": "code",
   "execution_count": 13,
   "id": "295efb4a-a9fe-474e-abf4-d60bbb0bf855",
   "metadata": {},
   "outputs": [],
   "source": [
    "'''Hacemos uso de la clase `Chroma` de la librería LangChain Community para almacenar y gestionar una base de datos de vectores. \n",
    "El flujo es el siguiente:\n",
    "- from_documents(): Crea una base de datos a partir de los documentos procesados (almacenados en la variable docs), los cuales se dividen en fragmentos de texto previamente.\n",
    "- embedding=embed_model: Se utiliza el modelo de embeddings (embed_model) para convertir los fragmentos de texto en vectores.\n",
    "- persist_directory: Define un directorio local, chroma_db_dir_Governace, para almacenar la base de datos de forma persistente.\n",
    "- collection_name: La colección de documentos y sus embeddings se almacena bajo el nombre \"Data_Governance_2024\".\n",
    "\n",
    "Este paso es esencial para utilizar las representaciones vectoriales de los documentos en tareas como búsquedas semánticas o generación de texto aumentada por recuperación (RAG).'''\n",
    "\n",
    "\n",
    "from langchain_community.vectorstores import Chroma\n",
    "\n",
    "vs = Chroma.from_documents(\n",
    "    documents=docs,\n",
    "    embedding=embed_model,\n",
    "    persist_directory=\"chroma_db_dir_Governace\", \n",
    "    collection_name=\"Data_Governance_2024\"\n",
    ")"
   ]
  },
  {
   "cell_type": "code",
   "execution_count": 14,
   "id": "223cc653-89ff-40ed-8f4a-b1af28e4c901",
   "metadata": {},
   "outputs": [
    {
     "name": "stderr",
     "output_type": "stream",
     "text": [
      "C:\\Users\\Novakorp\\AppData\\Local\\Temp\\ipykernel_1348\\1039950950.py:10: LangChainDeprecationWarning: The class `Chroma` was deprecated in LangChain 0.2.9 and will be removed in 1.0. An updated version of the class exists in the :class:`~langchain-chroma package and should be used instead. To use it run `pip install -U :class:`~langchain-chroma` and import as `from :class:`~langchain_chroma import Chroma``.\n",
      "  vectorstore = Chroma(embedding_function=embed_model,\n"
     ]
    }
   ],
   "source": [
    "'''Se inicializa una instancia de Chroma para crear un motor de recuperación de información a partir de los vectores previamente almacenados:\n",
    "- Chroma: Se crea un vectorstore utilizando el modelo de embeddings (embed_model), con la base de datos almacenada en el directorio \"chroma_db_dir_Governace\" y bajo la colección \"Data_Governance_2024\".\n",
    "- as_retriever(): Convierte el vectorstore en un recuperador de información que permite realizar búsquedas semánticas. \n",
    "La opción \"search_kwargs={'k': 3}\" establece que se recuperarán los 3 documentos más relevantes en cada búsqueda.\n",
    "\n",
    "Este código es clave para la recuperación de información en sistemas que utilizan RAG (Retrieval-Augmented Generation).'''\n",
    "\n",
    "\n",
    "\n",
    "vectorstore = Chroma(embedding_function=embed_model,\n",
    "                     persist_directory=\"chroma_db_dir_Governace\",\n",
    "                     collection_name=\"Data_Governance_2024\")\n",
    "retriever=vectorstore.as_retriever(search_kwargs={'k': 3})\n"
   ]
  },
  {
   "cell_type": "code",
   "execution_count": 15,
   "id": "c2932ad7-5991-4b59-a388-bab06a61e6b3",
   "metadata": {},
   "outputs": [],
   "source": [
    "'''Se crea un prompt personalizado utilizando la clase PromptTemplate de la librería LangChain. \n",
    "El propósito de este prompt es configurar las respuestas de un asistente virtual diseñado para la asignatura de Gobierno del Dato en el ámbito educativo. \n",
    "El flujo es el siguiente:\n",
    "- custom_prompt_template: Define el texto del prompt, donde se indica que el asistente debe responder consultas administrativas y operativas sobre el curso, sin inventar información si no conoce la respuesta.\n",
    "- Variables {context} y {question}: Estas son variables que se sustituyen con la información del contexto y la pregunta realizada por el usuario, respectivamente.\n",
    "- PromptTemplate: Se utiliza para estructurar el prompt de manera que se integre fácilmente en el flujo de preguntas y respuestas del asistente, asegurando que siempre responda en español.\n",
    "\n",
    "Este prompt guía al modelo para proporcionar respuestas precisas y relevantes dentro del contexto educativo.'''\n",
    "\n",
    "\n",
    "from langchain.prompts import PromptTemplate\n",
    "\n",
    "custom_prompt_template = \"\"\" Tu eres un asistente de la asignatura del Gobierno del dato, en el ambito educativo. Responderas consultas\n",
    "administrativas y operativas respecto al curso.\n",
    "Usa la siguiente información para responder a la pregunta del usuario.\n",
    "Si no sabes la respuesta, simplemente di que no lo sabes, no intentes inventar una respuesta.\n",
    "\n",
    "Contexto: {context}\n",
    "Pregunta: {question}\n",
    "\n",
    "Solo devuelve la respuesta útil a continuación y nada más y responde siempre en español\n",
    "Respuesta útil:\n",
    "\"\"\"\n",
    "prompt = PromptTemplate(template=custom_prompt_template,\n",
    "                        input_variables=['context', 'question'])\n"
   ]
  },
  {
   "cell_type": "code",
   "execution_count": 16,
   "id": "3749223d-8bfd-4cb0-b8e6-162b6217a844",
   "metadata": {},
   "outputs": [],
   "source": [
    "'''Se crea una instancia de una cadena de preguntas y respuestas (RetrievalQA) utilizando LangChain, donde el modelo de lenguaje responde a consultas basadas en información recuperada de documentos. \n",
    "El flujo es el siguiente:\n",
    "- RetrievalQA: Se crea una cadena que combina un modelo de lenguaje grande (LLM) con un mecanismo de recuperación de información (retriever). \n",
    "El asistente podrá responder preguntas utilizando tanto su capacidad de generación como los documentos relevantes recuperados.\n",
    "- llm=llm: El modelo de lenguaje (LLM) es el encargado de generar las respuestas.\n",
    "- retriever=retriever: Este objeto se encarga de buscar los documentos más relevantes que contienen la información necesaria para responder.\n",
    "- chain_type=\"stuff\": Se define el tipo de cadena, en este caso el modelo \"stuff\", que integra los documentos recuperados directamente en la respuesta.\n",
    "- return_source_documents=True: Además de la respuesta, la cadena también devuelve los documentos fuente utilizados.\n",
    "- chain_type_kwargs={\"prompt\": prompt}: Se incorpora el prompt personalizado definido previamente para guiar al modelo a responder de manera adecuada y en español.\n",
    "\n",
    "Este código es clave para construir el sistema de preguntas y respuestas basado en RAG (Retrieval-Augmented Generation).'''\n",
    "\n",
    "\n",
    "from langchain.chains import RetrievalQA\n",
    "\n",
    "qa = RetrievalQA.from_chain_type(llm=llm,\n",
    "                                 chain_type=\"stuff\",\n",
    "                                 retriever=retriever,\n",
    "                                 return_source_documents=True,\n",
    "                                 chain_type_kwargs={\"prompt\": prompt})\n"
   ]
  },
  {
   "cell_type": "code",
   "execution_count": 18,
   "id": "6c79aec1-623c-46f1-b64a-f167202ba6cc",
   "metadata": {},
   "outputs": [
    {
     "data": {
      "text/plain": [
       "' A continuacion comenzamos a interactuar con el asistente. Se ejecuta una consulta sobre el sistema de preguntas y respuestas creado anteriormente:\\n- qa.invoke(): Llama al método invoke del objeto RetrievalQA para realizar una consulta.\\n- \"query\": \"¿Cuáles son los profesores responsables del curso Gobierno del dato?\"}: El diccionario contiene la pregunta del usuario, en este caso, sobre los profesores responsables del curso de Gobierno del Dato.\\n- El sistema busca la respuesta en la base de datos de documentos previamente cargada y procesada, devolviendo tanto la respuesta como los documentos fuente si están disponibles.\\n\\nEste paso ejecuta la búsqueda y generación de la respuesta en el sistema de asistencia virtual para el curso.'"
      ]
     },
     "execution_count": 18,
     "metadata": {},
     "output_type": "execute_result"
    }
   ],
   "source": [
    "''' A continuacion comenzamos a interactuar con el asistente. Se ejecuta una consulta sobre el sistema de preguntas y respuestas creado anteriormente:\n",
    "- qa.invoke(): Llama al método invoke del objeto RetrievalQA para realizar una consulta.\n",
    "- \"query\": \"¿Cuáles son los profesores responsables del curso Gobierno del dato?\"}: El diccionario contiene la pregunta del usuario, en este caso, sobre los profesores responsables del curso de Gobierno del Dato.\n",
    "- El sistema busca la respuesta en la base de datos de documentos previamente cargada y procesada, devolviendo tanto la respuesta como los documentos fuente si están disponibles.\n",
    "\n",
    "Este paso ejecuta la búsqueda y generación de la respuesta en el sistema de asistencia virtual para el curso.'''"
   ]
  },
  {
   "cell_type": "code",
   "execution_count": 16,
   "id": "ada21540-5733-4efd-a4c5-f25cdad7f242",
   "metadata": {},
   "outputs": [],
   "source": [
    "response = qa.invoke({\"query\": \"Cualos son los profesores responsables del curso Gobierno del dato ?\"})"
   ]
  },
  {
   "cell_type": "code",
   "execution_count": 17,
   "id": "9a398300-3e6f-44db-a318-2b1dfd3ac926",
   "metadata": {},
   "outputs": [
    {
     "data": {
      "text/plain": [
       "'Los profesores responsables del curso de Gobierno del Dato son Kevin Canova, Gustavo Favaro y Nicolas Martins.'"
      ]
     },
     "execution_count": 17,
     "metadata": {},
     "output_type": "execute_result"
    }
   ],
   "source": [
    "response['result']"
   ]
  },
  {
   "cell_type": "code",
   "execution_count": 18,
   "id": "911e800e-55fa-49c5-aef2-e7ee18827749",
   "metadata": {},
   "outputs": [
    {
     "data": {
      "text/plain": [
       "'Las unidades temáticas de la asignatura \"Gobierno del Dato\" son:\\n\\nUnidad 1: El Gobierno del Dato como generador de ventajas competitivas en nuestro negocio.\\nUnidad 2: Generando una visión a la práctica del Gobierno del Dato.\\nUnidad 3: Organizaciones Data Driven orientadas al impacto.\\nUnidad 4: Framework de Desarrollo de un Producto de Datos.\\nUnidad 5: Arquitecturas Modernas para la gestión de ciclo de vida del dato.\\nUnidad 6: Modelado de datos en una Organización.\\nUnidad 7: Relevancia de la calidad de los datos, y su impacto en el negocio.\\nUnidad 8: Potenciando el dato con la Metadata.\\nUnidad 9: Instaurando una Cultura Data Driven.\\nUnidad 10: Cumplimiento Regulatorio y normas internas en las organizaciones.\\nUnidad 11: Seguridad en los datos.\\nUnidad 12: Integración del Gobierno del dato con IA.'"
      ]
     },
     "execution_count": 18,
     "metadata": {},
     "output_type": "execute_result"
    }
   ],
   "source": [
    "response = qa.invoke({\"query\": \"Cual es son las unidades tematicas de la asignatura Gobierno del dato?\"})\n",
    "response['result']"
   ]
  },
  {
   "cell_type": "code",
   "execution_count": 19,
   "id": "59c8e95f-32b6-4a94-885a-32e50e9a64e0",
   "metadata": {},
   "outputs": [
    {
     "data": {
      "text/plain": [
       "'La fecha del examen final es el 06 de Diciembre de 2024.'"
      ]
     },
     "execution_count": 19,
     "metadata": {},
     "output_type": "execute_result"
    }
   ],
   "source": [
    "response = qa.invoke({\"query\": \"Cuando es la fecha en que se va a rendir el examen de la asignatura?\"})\n",
    "response['result']\n"
   ]
  },
  {
   "cell_type": "code",
   "execution_count": 22,
   "id": "67594ba6-9901-40b6-8aaa-41a66f2b3653",
   "metadata": {},
   "outputs": [
    {
     "data": {
      "text/plain": [
       "'El link de conexión del curso es: https://us02web.zoom.us/j/2197512947'"
      ]
     },
     "execution_count": 22,
     "metadata": {},
     "output_type": "execute_result"
    }
   ],
   "source": [
    "response = qa.invoke({\"query\": \"Cual es el link de conexion del curso ?\"})\n",
    "response['result']"
   ]
  },
  {
   "cell_type": "code",
   "execution_count": 23,
   "id": "6f31ea1e-d474-420a-83c9-4ba8ebbbdbc1",
   "metadata": {},
   "outputs": [
    {
     "data": {
      "text/plain": [
       "'El término \"Gobierno del Dato\" se refiere al proceso de planificación, supervisión y control que se aplica a los datos y procesos relacionados con ellos dentro de una organización, con el objetivo de garantizar la calidad, integridad y seguridad de los datos, así como su uso efectivo y sostenible para tomar decisiones informadas.'"
      ]
     },
     "execution_count": 23,
     "metadata": {},
     "output_type": "execute_result"
    }
   ],
   "source": [
    "response = qa.invoke({\"query\": \"Que se entiendo por Gobierno del dato?\"})\n",
    "response['result']"
   ]
  },
  {
   "cell_type": "code",
   "execution_count": null,
   "id": "60236904-0b82-467f-9d1e-bb9697a30740",
   "metadata": {},
   "outputs": [],
   "source": []
  }
 ],
 "metadata": {
  "kernelspec": {
   "display_name": "Python 3 (ipykernel)",
   "language": "python",
   "name": "python3"
  },
  "language_info": {
   "codemirror_mode": {
    "name": "ipython",
    "version": 3
   },
   "file_extension": ".py",
   "mimetype": "text/x-python",
   "name": "python",
   "nbconvert_exporter": "python",
   "pygments_lexer": "ipython3",
   "version": "3.10.0"
  }
 },
 "nbformat": 4,
 "nbformat_minor": 5
}
