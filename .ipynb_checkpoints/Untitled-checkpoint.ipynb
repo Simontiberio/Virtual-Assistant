{
 "cells": [
  {
   "cell_type": "code",
   "execution_count": 1,
   "id": "872b2240-c1f5-4926-8af3-f35b8a1a20df",
   "metadata": {},
   "outputs": [
    {
     "data": {
      "text/plain": [
       "'¡hola! Soy LLaMA, un modelo de lenguaje inteligente desarrollado por Meta AI. Mi función es entender y responder a preguntas, mantener conversaciones y generar texto basado en el patrón y estilo de la entrada que recibo. Estoy aquí para ayudarte con cualquier cosa que necesites, desde hacer preguntas hasta proporcionar información general. ¿En qué puedo ayudarte hoy?'"
      ]
     },
     "execution_count": 1,
     "metadata": {},
     "output_type": "execute_result"
    }
   ],
   "source": [
    "from langchain_community.llms import Ollama\n",
    "\n",
    "llm = Ollama(model=\"llama3\")\n",
    "\n",
    "llm.invoke(\"Hola, quien eres?\")"
   ]
  },
  {
   "cell_type": "code",
   "execution_count": 4,
   "id": "33a7905a-a293-4dbd-b711-27f48e595362",
   "metadata": {},
   "outputs": [
    {
     "data": {
      "text/plain": [
       "Document(metadata={'source': 'documents/Data_Governance_2024.docx', 'file_path': 'documents/Data_Governance_2024.docx', 'page': 1, 'total_pages': 6, 'format': 'Office documen', 'title': '', 'author': '', 'subject': '', 'keywords': '', 'creator': '', 'producer': '', 'creationDate': '', 'modDate': '', 'trapped': '', 'encryption': ''}, page_content='nuevos desafíos en el área de gobernanza de los procesos de datos.\\nLogre conceptualizar al dato como un activo de la organización.\\nReconozca la centralidad que ocupan dentro de las incumbencias de\\ndata governance los problemas relativos a propiedad y calidad de\\nlos datos y responsabilidad de los procesos.\\nComprenda los problemas derivados de la falta de coordinación de\\niniciativas de datos entre departamentos y equipos.\\nAdquiera conocimientos para evaluar la conveniencia de la\\ncentralización y coordinación en la gestión de las iniciativas de\\ndatos.\\nProblematice las implicancias de centralizar o descentralizar\\nequipos, responsabilidades y procesos.\\nConozca las estrategias de data governance utilizadas actualmente.\\nPueda discutir y proponer estrategias de gobernanza de procesos en\\norganizaciones de diverso tipo.\\n2. CONTENIDOS / UNIDADES TEMÁTICAS\\nUnidad I. El Gobierno del Dato como generador de ventajas\\ncompetitivas en nuestro negocio.\\nUnidad 2. Generando una visión a la práctica del Gobierno del\\nDato.\\nUnidad 3. Organizaciones Data Driven orientadas al impacto\\nUnidad 4. Framework de Desarrollo de un Producto de Datos.\\nUnidad 5. Arquitecturas Modernas para la gestión de ciclo de vida\\ndel dato.\\nUnidad 6. Modelado de datos en una Organización.\\nUnidad 7. Relevancia de la calidad de los datos, y su impacto en el\\nnegocio.\\n')"
      ]
     },
     "execution_count": 4,
     "metadata": {},
     "output_type": "execute_result"
    }
   ],
   "source": [
    "from langchain_community.document_loaders import PyMuPDFLoader\n",
    "\n",
    "loader = PyMuPDFLoader(\"documents/Data_Governance_2024.docx\")\n",
    "data_pdf = loader.load()\n",
    "data_pdf[0]\n"
   ]
  },
  {
   "cell_type": "code",
   "execution_count": 5,
   "id": "872570bf-0222-4309-bb25-5f0e6269f64c",
   "metadata": {},
   "outputs": [
    {
     "data": {
      "text/plain": [
       "Document(metadata={'source': 'documents/Data_Governance_2024.docx', 'file_path': 'documents/Data_Governance_2024.docx', 'page': 0, 'total_pages': 6, 'format': 'Office documen', 'title': '', 'author': '', 'subject': '', 'keywords': '', 'creator': '', 'producer': '', 'creationDate': '', 'modDate': '', 'trapped': '', 'encryption': ''}, page_content='PROFESORES RESPONSABLES de la ASIGNATURA GOBIERNO DEL\\nDATO: Kevin Canova - Gustavo Favaro - Nicolas Martins\\nEn los últimos años, en especial desde el advenimiento de las\\ntecnologías cloud, las organizaciones han implementado de forma\\ncreciente iniciativas basadas en datos. No obstante, los problemas\\nde gobernanza de tales procesos, tradicionalmente han sido\\nrelegados a un segundo plano dentro de las prioridades\\norganizacionales. Sólo con la complejización técnica reciente este\\nproblema ha ganado notoriedad y la academia, las organizaciones y\\nempresas proveedoras de servicios han comenzado a tratarlo\\nactivamente. Bajo esta nueva conceptualización, el área de Data\\nGovernance se ha consolidado como la disciplina y práctica\\nencargada de enforzar procesos, estándares y responsabilidades en\\nlo relativo a todas las etapas de ingesta, tratamiento,\\nalmacenamiento y consumo de datos en el área de analytics dentro\\nde una organización. Según este enfoque, la práctica de Data\\nGovernance es la encargada de alinear los procesos de analytics a la\\niniciativa estratégica de la empresa, determinando quién puede\\nhacer qué, y cómo, con los datos de la organización. Esta asignatura\\nbusca introducir a los alumnos a la problemática de Data\\nGovernance, repasando los principales aspectos vinculados al\\nentorno tecnológico, problemas organizacionales, definición de\\nequipos y responsabilidades y estrategias para la definición de\\nprocesos de datos.\\n1. OBJETIVOS DE LA ASIGNATURA\\nQue el alumno:\\nConozca la definición y las áreas de incumbencia de la práctica de\\ndata governance.\\nPueda encuadrar la gobernanza de los procesos de datos en el\\nmarco general de la Enterprise Architecture.\\nSe familiarice con los frameworks de gobernanza en el área de IT y\\nde datos.\\nComprenda cómo la transformación técnica lleva al surgimiento de\\n')"
      ]
     },
     "execution_count": 5,
     "metadata": {},
     "output_type": "execute_result"
    }
   ],
   "source": [
    "data_pdf[0]"
   ]
  },
  {
   "cell_type": "code",
   "execution_count": 6,
   "id": "cfed9419-970b-40ff-b515-747c7e0755b0",
   "metadata": {},
   "outputs": [],
   "source": [
    "from langchain.text_splitter import RecursiveCharacterTextSplitter\n",
    "text_splitter = RecursiveCharacterTextSplitter(chunk_size=2000, chunk_overlap=500)\n",
    "docs = text_splitter.split_documents(data_pdf)"
   ]
  },
  {
   "cell_type": "code",
   "execution_count": 11,
   "id": "08250fe5-5057-4e7f-b840-35d881821955",
   "metadata": {},
   "outputs": [
    {
     "name": "stderr",
     "output_type": "stream",
     "text": [
      "C:\\Users\\Novakorp\\AppData\\Local\\Programs\\Python\\Python310\\lib\\site-packages\\pydantic\\_internal\\_fields.py:132: UserWarning: Field \"model_name\" in HuggingFaceInferenceAPIEmbeddings has conflict with protected namespace \"model_\".\n",
      "\n",
      "You may be able to resolve this warning by setting `model_config['protected_namespaces'] = ()`.\n",
      "  warnings.warn(\n",
      "C:\\Users\\Novakorp\\AppData\\Local\\Temp\\ipykernel_15900\\22130759.py:3: LangChainDeprecationWarning: The class `HuggingFaceEmbeddings` was deprecated in LangChain 0.2.2 and will be removed in 1.0. An updated version of the class exists in the :class:`~langchain-huggingface package and should be used instead. To use it run `pip install -U :class:`~langchain-huggingface` and import as `from :class:`~langchain_huggingface import HuggingFaceEmbeddings``.\n",
      "  embed_model = HuggingFaceEmbeddings(model_name=\"sentence-transformers/all-MiniLM-L6-v2\")\n",
      "C:\\Users\\Novakorp\\AppData\\Local\\Programs\\Python\\Python310\\lib\\site-packages\\transformers\\tokenization_utils_base.py:1617: FutureWarning: `clean_up_tokenization_spaces` was not set. It will be set to `True` by default. This behavior will be deprecated in transformers v4.45, and will be then set to `False` by default. For more details check this issue: https://github.com/huggingface/transformers/issues/31884\n",
      "  warnings.warn(\n"
     ]
    }
   ],
   "source": [
    "from langchain.embeddings import HuggingFaceEmbeddings\n",
    "\n",
    "embed_model = HuggingFaceEmbeddings(model_name=\"sentence-transformers/all-MiniLM-L6-v2\")\n"
   ]
  },
  {
   "cell_type": "code",
   "execution_count": 12,
   "id": "295efb4a-a9fe-474e-abf4-d60bbb0bf855",
   "metadata": {},
   "outputs": [],
   "source": [
    "from langchain_community.vectorstores import Chroma\n",
    "\n",
    "vs = Chroma.from_documents(\n",
    "    documents=docs,\n",
    "    embedding=embed_model,\n",
    "    persist_directory=\"chroma_db_dir_Governace\",  # Local mode with in-memory storage only\n",
    "    collection_name=\"Data_Governance_2024\"\n",
    ")"
   ]
  },
  {
   "cell_type": "code",
   "execution_count": 13,
   "id": "223cc653-89ff-40ed-8f4a-b1af28e4c901",
   "metadata": {},
   "outputs": [
    {
     "name": "stderr",
     "output_type": "stream",
     "text": [
      "C:\\Users\\Novakorp\\AppData\\Local\\Temp\\ipykernel_15900\\1159781285.py:1: LangChainDeprecationWarning: The class `Chroma` was deprecated in LangChain 0.2.9 and will be removed in 1.0. An updated version of the class exists in the :class:`~langchain-chroma package and should be used instead. To use it run `pip install -U :class:`~langchain-chroma` and import as `from :class:`~langchain_chroma import Chroma``.\n",
      "  vectorstore = Chroma(embedding_function=embed_model,\n"
     ]
    }
   ],
   "source": [
    "vectorstore = Chroma(embedding_function=embed_model,\n",
    "                     persist_directory=\"chroma_db_dir_Governace\",\n",
    "                     collection_name=\"Data_Governance_2024\")\n",
    "retriever=vectorstore.as_retriever(search_kwargs={'k': 3})\n"
   ]
  },
  {
   "cell_type": "code",
   "execution_count": 14,
   "id": "c2932ad7-5991-4b59-a388-bab06a61e6b3",
   "metadata": {},
   "outputs": [],
   "source": [
    "from langchain.prompts import PromptTemplate\n",
    "\n",
    "custom_prompt_template = \"\"\" Tu eres un asistente de la asignatura del Gobierno del dato, en el ambito educativo. Responderas consultas\n",
    "administrativas y operativas respecto al curso.\n",
    "Usa la siguiente información para responder a la pregunta del usuario.\n",
    "Si no sabes la respuesta, simplemente di que no lo sabes, no intentes inventar una respuesta.\n",
    "\n",
    "Contexto: {context}\n",
    "Pregunta: {question}\n",
    "\n",
    "Solo devuelve la respuesta útil a continuación y nada más y responde siempre en español\n",
    "Respuesta útil:\n",
    "\"\"\"\n",
    "prompt = PromptTemplate(template=custom_prompt_template,\n",
    "                        input_variables=['context', 'question'])\n"
   ]
  },
  {
   "cell_type": "code",
   "execution_count": 15,
   "id": "3749223d-8bfd-4cb0-b8e6-162b6217a844",
   "metadata": {},
   "outputs": [],
   "source": [
    "from langchain.chains import RetrievalQA\n",
    "\n",
    "qa = RetrievalQA.from_chain_type(llm=llm,\n",
    "                                 chain_type=\"stuff\",\n",
    "                                 retriever=retriever,\n",
    "                                 return_source_documents=True,\n",
    "                                 chain_type_kwargs={\"prompt\": prompt})\n"
   ]
  },
  {
   "cell_type": "code",
   "execution_count": 16,
   "id": "ada21540-5733-4efd-a4c5-f25cdad7f242",
   "metadata": {},
   "outputs": [],
   "source": [
    "response = qa.invoke({\"query\": \"Cualos son los profesores responsables del curso Gobierno del dato ?\"})"
   ]
  },
  {
   "cell_type": "code",
   "execution_count": 17,
   "id": "9a398300-3e6f-44db-a318-2b1dfd3ac926",
   "metadata": {},
   "outputs": [
    {
     "data": {
      "text/plain": [
       "'Los profesores responsables del curso de Gobierno del Dato son Kevin Canova, Gustavo Favaro y Nicolas Martins.'"
      ]
     },
     "execution_count": 17,
     "metadata": {},
     "output_type": "execute_result"
    }
   ],
   "source": [
    "response['result']"
   ]
  },
  {
   "cell_type": "code",
   "execution_count": 18,
   "id": "911e800e-55fa-49c5-aef2-e7ee18827749",
   "metadata": {},
   "outputs": [
    {
     "data": {
      "text/plain": [
       "'Las unidades temáticas de la asignatura \"Gobierno del Dato\" son:\\n\\nUnidad 1: El Gobierno del Dato como generador de ventajas competitivas en nuestro negocio.\\nUnidad 2: Generando una visión a la práctica del Gobierno del Dato.\\nUnidad 3: Organizaciones Data Driven orientadas al impacto.\\nUnidad 4: Framework de Desarrollo de un Producto de Datos.\\nUnidad 5: Arquitecturas Modernas para la gestión de ciclo de vida del dato.\\nUnidad 6: Modelado de datos en una Organización.\\nUnidad 7: Relevancia de la calidad de los datos, y su impacto en el negocio.\\nUnidad 8: Potenciando el dato con la Metadata.\\nUnidad 9: Instaurando una Cultura Data Driven.\\nUnidad 10: Cumplimiento Regulatorio y normas internas en las organizaciones.\\nUnidad 11: Seguridad en los datos.\\nUnidad 12: Integración del Gobierno del dato con IA.'"
      ]
     },
     "execution_count": 18,
     "metadata": {},
     "output_type": "execute_result"
    }
   ],
   "source": [
    "response = qa.invoke({\"query\": \"Cual es son las unidades tematicas de la asignatura Gobierno del dato?\"})\n",
    "response['result']"
   ]
  },
  {
   "cell_type": "code",
   "execution_count": 19,
   "id": "59c8e95f-32b6-4a94-885a-32e50e9a64e0",
   "metadata": {},
   "outputs": [
    {
     "data": {
      "text/plain": [
       "'La fecha del examen final es el 06 de Diciembre de 2024.'"
      ]
     },
     "execution_count": 19,
     "metadata": {},
     "output_type": "execute_result"
    }
   ],
   "source": [
    "response = qa.invoke({\"query\": \"Cuando es la fecha en que se va a rendir el examen de la asignatura?\"})\n",
    "response['result']\n"
   ]
  },
  {
   "cell_type": "code",
   "execution_count": 22,
   "id": "67594ba6-9901-40b6-8aaa-41a66f2b3653",
   "metadata": {},
   "outputs": [
    {
     "data": {
      "text/plain": [
       "'El link de conexión del curso es: https://us02web.zoom.us/j/2197512947'"
      ]
     },
     "execution_count": 22,
     "metadata": {},
     "output_type": "execute_result"
    }
   ],
   "source": [
    "response = qa.invoke({\"query\": \"Cual es el link de conexion del curso ?\"})\n",
    "response['result']"
   ]
  },
  {
   "cell_type": "code",
   "execution_count": 23,
   "id": "6f31ea1e-d474-420a-83c9-4ba8ebbbdbc1",
   "metadata": {},
   "outputs": [
    {
     "data": {
      "text/plain": [
       "'El término \"Gobierno del Dato\" se refiere al proceso de planificación, supervisión y control que se aplica a los datos y procesos relacionados con ellos dentro de una organización, con el objetivo de garantizar la calidad, integridad y seguridad de los datos, así como su uso efectivo y sostenible para tomar decisiones informadas.'"
      ]
     },
     "execution_count": 23,
     "metadata": {},
     "output_type": "execute_result"
    }
   ],
   "source": [
    "response = qa.invoke({\"query\": \"Que se entiendo por Gobierno del dato?\"})\n",
    "response['result']"
   ]
  },
  {
   "cell_type": "code",
   "execution_count": null,
   "id": "60236904-0b82-467f-9d1e-bb9697a30740",
   "metadata": {},
   "outputs": [],
   "source": []
  }
 ],
 "metadata": {
  "kernelspec": {
   "display_name": "Python 3 (ipykernel)",
   "language": "python",
   "name": "python3"
  },
  "language_info": {
   "codemirror_mode": {
    "name": "ipython",
    "version": 3
   },
   "file_extension": ".py",
   "mimetype": "text/x-python",
   "name": "python",
   "nbconvert_exporter": "python",
   "pygments_lexer": "ipython3",
   "version": "3.10.0"
  }
 },
 "nbformat": 4,
 "nbformat_minor": 5
}
